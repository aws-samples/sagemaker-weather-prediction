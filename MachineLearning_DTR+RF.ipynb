{
 "cells": [
  {
   "cell_type": "code",
   "execution_count": 1,
   "id": "0ed5f296",
   "metadata": {},
   "outputs": [],
   "source": [
    "#importing all the libraries needed for this implementation. The warnings module was introduced as a way to warn \n",
    "#programmers about changes in language or library features in anticipation of backwards incompatible changes coming \n",
    "#with Python 3.0. Since warnings are not fatal, a program may encounter the same warn-able situation many times in \n",
    "#the course of running a program\n",
    "#The filter is set to ignore so that the warnings are not displayed\n",
    "import warnings\n",
    "warnings.filterwarnings('ignore')"
   ]
  },
  {
   "cell_type": "code",
   "execution_count": 2,
   "id": "005691e9",
   "metadata": {},
   "outputs": [],
   "source": [
    "#The main purpose of the OS module is to interact with the operating system\n",
    "import os"
   ]
  },
  {
   "cell_type": "code",
   "execution_count": 3,
   "id": "6426ff4e",
   "metadata": {},
   "outputs": [],
   "source": [
    "#Boto3 is the name of the Python SDK for AWS. The module makes it easy to integrate the Python application, library, or script with AWS services including Amazon S3 and more\n",
    "#It allows for direct creation, updating and deletion of AWS resources from your Python scripts\n",
    "import boto3"
   ]
  },
  {
   "cell_type": "code",
   "execution_count": 4,
   "id": "4a1d1d52",
   "metadata": {},
   "outputs": [],
   "source": [
    "#Python io module allows us to manage the file-related input and output operations\n",
    "import io"
   ]
  },
  {
   "cell_type": "code",
   "execution_count": 5,
   "id": "57c61dc9",
   "metadata": {},
   "outputs": [],
   "source": [
    "#SageMaker Python SDK is an open-source library for training and deploying machine learning models on Amazon SageMaker\n",
    "import sagemaker"
   ]
  },
  {
   "cell_type": "code",
   "execution_count": 6,
   "id": "84719128",
   "metadata": {},
   "outputs": [],
   "source": [
    "#For matrix operations and numerical processing\n",
    "import numpy as np"
   ]
  },
  {
   "cell_type": "code",
   "execution_count": 7,
   "id": "754bcbc5",
   "metadata": {},
   "outputs": [],
   "source": [
    "#for munging tabular data\n",
    "import pandas as pd"
   ]
  },
  {
   "cell_type": "code",
   "execution_count": 8,
   "id": "8abcd15a",
   "metadata": {},
   "outputs": [],
   "source": [
    "#For charts and visualizations \n",
    "from matplotlib import pyplot as plt\n",
    "%matplotlib inline"
   ]
  },
  {
   "cell_type": "code",
   "execution_count": 9,
   "id": "8475f488",
   "metadata": {},
   "outputs": [],
   "source": [
    "#Scikit-learn is a machine learning library for Python. It features several regression, classification and clustering \n",
    "#algorithms including SVMs, gradient boosting, k-means, random forests and DBSCAN. . Using train_test_split() from the\n",
    "#data science library scikit-learn, you can split your dataset into subsets that minimize the potential for bias in \n",
    "#your evaluation and validation process.\n",
    "import sklearn\n",
    "from sklearn.model_selection import train_test_split\n",
    "from sklearn.metrics import accuracy_score"
   ]
  },
  {
   "cell_type": "code",
   "execution_count": 10,
   "id": "1e71c085",
   "metadata": {},
   "outputs": [],
   "source": [
    "#With Scikit-Learn it is extremely straight forward to implement linear regression models, as all you really need to \n",
    "#do is import the LinearRegression class, instantiate it, and call the fit() method along with our training data.\n",
    "from sklearn.linear_model import LinearRegression"
   ]
  },
  {
   "cell_type": "code",
   "execution_count": 11,
   "id": "f216f92d",
   "metadata": {},
   "outputs": [],
   "source": [
    "#importing other modules that makr it easier to work with the data\n",
    "import pickle,gzip,urllib,json,csv"
   ]
  },
  {
   "cell_type": "code",
   "execution_count": 12,
   "id": "e40e301c",
   "metadata": {},
   "outputs": [],
   "source": [
    "#The preprocessing module provides the StandardScaler utility class, which is a quick and easy way to perform the \n",
    "#many operations on an array-like dataset\n",
    "from sklearn import preprocessing"
   ]
  },
  {
   "cell_type": "code",
   "execution_count": 13,
   "id": "0382e226",
   "metadata": {},
   "outputs": [],
   "source": [
    "#Get the execution role for the notebook instance. This is the IAM role that you created for your notebook instance.\n",
    "#You pass the role to the tuning job.\n",
    "from sagemaker import get_execution_role\n",
    "role = get_execution_role()"
   ]
  },
  {
   "cell_type": "code",
   "execution_count": 14,
   "id": "ecc622ab",
   "metadata": {},
   "outputs": [],
   "source": [
    "#Resources represent an object-oriented interface to Amazon Web Services (AWS). They provide a higher-level \n",
    "#abstraction than the raw, low-level calls made by service clients. Defining the S3 resource, bucket name and csv\n",
    "#file object\n",
    "s3 = boto3.resource('s3')\n",
    "bucket_name = 'aws-machinelearning-chez'\n",
    "object_key = 'weatherhistory2.csv'"
   ]
  },
  {
   "cell_type": "code",
   "execution_count": 15,
   "id": "37070ed5",
   "metadata": {},
   "outputs": [],
   "source": [
    "#Use the boto3 client to retrieve the file from bucket aws-machinelearning-chez named weatherhistory.csv. \n",
    "#Define Weather dataset as the csv file read in the response from the get_object operation\n",
    "s3_client = boto3.client('s3')\n",
    "response = s3_client.get_object(Bucket=bucket_name, Key=object_key)\n",
    "response_body = response[\"Body\"].read()\n",
    "weather_df = pd.read_csv(io.BytesIO(response_body), header=0, delimiter=\",\", low_memory=False)"
   ]
  },
  {
   "cell_type": "code",
   "execution_count": 16,
   "id": "798804d5",
   "metadata": {},
   "outputs": [
    {
     "data": {
      "text/html": [
       "<div>\n",
       "<style scoped>\n",
       "    .dataframe tbody tr th:only-of-type {\n",
       "        vertical-align: middle;\n",
       "    }\n",
       "\n",
       "    .dataframe tbody tr th {\n",
       "        vertical-align: top;\n",
       "    }\n",
       "\n",
       "    .dataframe thead th {\n",
       "        text-align: right;\n",
       "    }\n",
       "</style>\n",
       "<table border=\"1\" class=\"dataframe\">\n",
       "  <thead>\n",
       "    <tr style=\"text-align: right;\">\n",
       "      <th></th>\n",
       "      <th>Formatted Date</th>\n",
       "      <th>Summary</th>\n",
       "      <th>Precip Type</th>\n",
       "      <th>Temperature (C)</th>\n",
       "      <th>Apparent Temperature (C)</th>\n",
       "      <th>Humidity</th>\n",
       "      <th>Wind Speed (km/h)</th>\n",
       "      <th>Wind Bearing (degrees)</th>\n",
       "      <th>Visibility (km)</th>\n",
       "      <th>Loud Cover</th>\n",
       "      <th>Pressure (millibars)</th>\n",
       "      <th>Daily Summary</th>\n",
       "    </tr>\n",
       "  </thead>\n",
       "  <tbody>\n",
       "    <tr>\n",
       "      <th>0</th>\n",
       "      <td>2006-04-01 00:00:00.000 +0200</td>\n",
       "      <td>Partly Cloudy</td>\n",
       "      <td>rain</td>\n",
       "      <td>9.472222</td>\n",
       "      <td>7.388889</td>\n",
       "      <td>0.89</td>\n",
       "      <td>14.1197</td>\n",
       "      <td>251</td>\n",
       "      <td>15.8263</td>\n",
       "      <td>0</td>\n",
       "      <td>1015.13</td>\n",
       "      <td>Partly cloudy throughout the day.</td>\n",
       "    </tr>\n",
       "    <tr>\n",
       "      <th>1</th>\n",
       "      <td>2006-04-01 01:00:00.000 +0200</td>\n",
       "      <td>Partly Cloudy</td>\n",
       "      <td>rain</td>\n",
       "      <td>9.355556</td>\n",
       "      <td>7.227778</td>\n",
       "      <td>0.86</td>\n",
       "      <td>14.2646</td>\n",
       "      <td>259</td>\n",
       "      <td>15.8263</td>\n",
       "      <td>0</td>\n",
       "      <td>1015.63</td>\n",
       "      <td>Partly cloudy throughout the day.</td>\n",
       "    </tr>\n",
       "    <tr>\n",
       "      <th>2</th>\n",
       "      <td>2006-04-01 02:00:00.000 +0200</td>\n",
       "      <td>Mostly Cloudy</td>\n",
       "      <td>rain</td>\n",
       "      <td>9.377778</td>\n",
       "      <td>9.377778</td>\n",
       "      <td>0.89</td>\n",
       "      <td>3.9284</td>\n",
       "      <td>204</td>\n",
       "      <td>14.9569</td>\n",
       "      <td>0</td>\n",
       "      <td>1015.94</td>\n",
       "      <td>Partly cloudy throughout the day.</td>\n",
       "    </tr>\n",
       "    <tr>\n",
       "      <th>3</th>\n",
       "      <td>2006-04-01 03:00:00.000 +0200</td>\n",
       "      <td>Partly Cloudy</td>\n",
       "      <td>rain</td>\n",
       "      <td>8.288889</td>\n",
       "      <td>5.944444</td>\n",
       "      <td>0.83</td>\n",
       "      <td>14.1036</td>\n",
       "      <td>269</td>\n",
       "      <td>15.8263</td>\n",
       "      <td>0</td>\n",
       "      <td>1016.41</td>\n",
       "      <td>Partly cloudy throughout the day.</td>\n",
       "    </tr>\n",
       "    <tr>\n",
       "      <th>4</th>\n",
       "      <td>2006-04-01 04:00:00.000 +0200</td>\n",
       "      <td>Mostly Cloudy</td>\n",
       "      <td>rain</td>\n",
       "      <td>8.755556</td>\n",
       "      <td>6.977778</td>\n",
       "      <td>0.83</td>\n",
       "      <td>11.0446</td>\n",
       "      <td>259</td>\n",
       "      <td>15.8263</td>\n",
       "      <td>0</td>\n",
       "      <td>1016.51</td>\n",
       "      <td>Partly cloudy throughout the day.</td>\n",
       "    </tr>\n",
       "  </tbody>\n",
       "</table>\n",
       "</div>"
      ],
      "text/plain": [
       "                  Formatted Date        Summary Precip Type  Temperature (C)  \\\n",
       "0  2006-04-01 00:00:00.000 +0200  Partly Cloudy        rain         9.472222   \n",
       "1  2006-04-01 01:00:00.000 +0200  Partly Cloudy        rain         9.355556   \n",
       "2  2006-04-01 02:00:00.000 +0200  Mostly Cloudy        rain         9.377778   \n",
       "3  2006-04-01 03:00:00.000 +0200  Partly Cloudy        rain         8.288889   \n",
       "4  2006-04-01 04:00:00.000 +0200  Mostly Cloudy        rain         8.755556   \n",
       "\n",
       "   Apparent Temperature (C)  Humidity  Wind Speed (km/h)  \\\n",
       "0                  7.388889      0.89            14.1197   \n",
       "1                  7.227778      0.86            14.2646   \n",
       "2                  9.377778      0.89             3.9284   \n",
       "3                  5.944444      0.83            14.1036   \n",
       "4                  6.977778      0.83            11.0446   \n",
       "\n",
       "   Wind Bearing (degrees)  Visibility (km)  Loud Cover  Pressure (millibars)  \\\n",
       "0                     251          15.8263           0               1015.13   \n",
       "1                     259          15.8263           0               1015.63   \n",
       "2                     204          14.9569           0               1015.94   \n",
       "3                     269          15.8263           0               1016.41   \n",
       "4                     259          15.8263           0               1016.51   \n",
       "\n",
       "                       Daily Summary  \n",
       "0  Partly cloudy throughout the day.  \n",
       "1  Partly cloudy throughout the day.  \n",
       "2  Partly cloudy throughout the day.  \n",
       "3  Partly cloudy throughout the day.  \n",
       "4  Partly cloudy throughout the day.  "
      ]
     },
     "execution_count": 16,
     "metadata": {},
     "output_type": "execute_result"
    }
   ],
   "source": [
    "#Look at the data\n",
    "weather_df.head()"
   ]
  },
  {
   "cell_type": "code",
   "execution_count": 17,
   "id": "dcb25780",
   "metadata": {},
   "outputs": [
    {
     "data": {
      "text/plain": [
       "Index(['Formatted Date', 'Summary', 'Precip Type', 'Temperature (C)',\n",
       "       'Apparent Temperature (C)', 'Humidity', 'Wind Speed (km/h)',\n",
       "       'Wind Bearing (degrees)', 'Visibility (km)', 'Loud Cover',\n",
       "       'Pressure (millibars)', 'Daily Summary'],\n",
       "      dtype='object')"
      ]
     },
     "execution_count": 17,
     "metadata": {},
     "output_type": "execute_result"
    }
   ],
   "source": [
    "#Gives an array of colums names \n",
    "weather_df.columns"
   ]
  },
  {
   "cell_type": "code",
   "execution_count": 18,
   "id": "460fd9a2",
   "metadata": {},
   "outputs": [
    {
     "data": {
      "text/html": [
       "<div>\n",
       "<style scoped>\n",
       "    .dataframe tbody tr th:only-of-type {\n",
       "        vertical-align: middle;\n",
       "    }\n",
       "\n",
       "    .dataframe tbody tr th {\n",
       "        vertical-align: top;\n",
       "    }\n",
       "\n",
       "    .dataframe thead th {\n",
       "        text-align: right;\n",
       "    }\n",
       "</style>\n",
       "<table border=\"1\" class=\"dataframe\">\n",
       "  <thead>\n",
       "    <tr style=\"text-align: right;\">\n",
       "      <th></th>\n",
       "      <th>Temperature (C)</th>\n",
       "      <th>Apparent Temperature (C)</th>\n",
       "      <th>Humidity</th>\n",
       "      <th>Wind Speed (km/h)</th>\n",
       "      <th>Wind Bearing (degrees)</th>\n",
       "      <th>Visibility (km)</th>\n",
       "      <th>Loud Cover</th>\n",
       "      <th>Pressure (millibars)</th>\n",
       "    </tr>\n",
       "  </thead>\n",
       "  <tbody>\n",
       "    <tr>\n",
       "      <th>count</th>\n",
       "      <td>96453.000000</td>\n",
       "      <td>96453.000000</td>\n",
       "      <td>96453.000000</td>\n",
       "      <td>96453.000000</td>\n",
       "      <td>96453.000000</td>\n",
       "      <td>96453.000000</td>\n",
       "      <td>96453.0</td>\n",
       "      <td>96453.000000</td>\n",
       "    </tr>\n",
       "    <tr>\n",
       "      <th>mean</th>\n",
       "      <td>11.932678</td>\n",
       "      <td>10.855029</td>\n",
       "      <td>0.734899</td>\n",
       "      <td>10.810640</td>\n",
       "      <td>187.509232</td>\n",
       "      <td>10.347325</td>\n",
       "      <td>0.0</td>\n",
       "      <td>1003.235956</td>\n",
       "    </tr>\n",
       "    <tr>\n",
       "      <th>std</th>\n",
       "      <td>9.551546</td>\n",
       "      <td>10.696847</td>\n",
       "      <td>0.195473</td>\n",
       "      <td>6.913571</td>\n",
       "      <td>107.383428</td>\n",
       "      <td>4.192123</td>\n",
       "      <td>0.0</td>\n",
       "      <td>116.969906</td>\n",
       "    </tr>\n",
       "    <tr>\n",
       "      <th>min</th>\n",
       "      <td>-21.822222</td>\n",
       "      <td>-27.716667</td>\n",
       "      <td>0.000000</td>\n",
       "      <td>0.000000</td>\n",
       "      <td>0.000000</td>\n",
       "      <td>0.000000</td>\n",
       "      <td>0.0</td>\n",
       "      <td>0.000000</td>\n",
       "    </tr>\n",
       "    <tr>\n",
       "      <th>25%</th>\n",
       "      <td>4.688889</td>\n",
       "      <td>2.311111</td>\n",
       "      <td>0.600000</td>\n",
       "      <td>5.828200</td>\n",
       "      <td>116.000000</td>\n",
       "      <td>8.339800</td>\n",
       "      <td>0.0</td>\n",
       "      <td>1011.900000</td>\n",
       "    </tr>\n",
       "    <tr>\n",
       "      <th>50%</th>\n",
       "      <td>12.000000</td>\n",
       "      <td>12.000000</td>\n",
       "      <td>0.780000</td>\n",
       "      <td>9.965900</td>\n",
       "      <td>180.000000</td>\n",
       "      <td>10.046400</td>\n",
       "      <td>0.0</td>\n",
       "      <td>1016.450000</td>\n",
       "    </tr>\n",
       "    <tr>\n",
       "      <th>75%</th>\n",
       "      <td>18.838889</td>\n",
       "      <td>18.838889</td>\n",
       "      <td>0.890000</td>\n",
       "      <td>14.135800</td>\n",
       "      <td>290.000000</td>\n",
       "      <td>14.812000</td>\n",
       "      <td>0.0</td>\n",
       "      <td>1021.090000</td>\n",
       "    </tr>\n",
       "    <tr>\n",
       "      <th>max</th>\n",
       "      <td>39.905556</td>\n",
       "      <td>39.344444</td>\n",
       "      <td>1.000000</td>\n",
       "      <td>63.852600</td>\n",
       "      <td>359.000000</td>\n",
       "      <td>16.100000</td>\n",
       "      <td>0.0</td>\n",
       "      <td>1046.380000</td>\n",
       "    </tr>\n",
       "  </tbody>\n",
       "</table>\n",
       "</div>"
      ],
      "text/plain": [
       "       Temperature (C)  Apparent Temperature (C)      Humidity  \\\n",
       "count     96453.000000              96453.000000  96453.000000   \n",
       "mean         11.932678                 10.855029      0.734899   \n",
       "std           9.551546                 10.696847      0.195473   \n",
       "min         -21.822222                -27.716667      0.000000   \n",
       "25%           4.688889                  2.311111      0.600000   \n",
       "50%          12.000000                 12.000000      0.780000   \n",
       "75%          18.838889                 18.838889      0.890000   \n",
       "max          39.905556                 39.344444      1.000000   \n",
       "\n",
       "       Wind Speed (km/h)  Wind Bearing (degrees)  Visibility (km)  Loud Cover  \\\n",
       "count       96453.000000            96453.000000     96453.000000     96453.0   \n",
       "mean           10.810640              187.509232        10.347325         0.0   \n",
       "std             6.913571              107.383428         4.192123         0.0   \n",
       "min             0.000000                0.000000         0.000000         0.0   \n",
       "25%             5.828200              116.000000         8.339800         0.0   \n",
       "50%             9.965900              180.000000        10.046400         0.0   \n",
       "75%            14.135800              290.000000        14.812000         0.0   \n",
       "max            63.852600              359.000000        16.100000         0.0   \n",
       "\n",
       "       Pressure (millibars)  \n",
       "count          96453.000000  \n",
       "mean            1003.235956  \n",
       "std              116.969906  \n",
       "min                0.000000  \n",
       "25%             1011.900000  \n",
       "50%             1016.450000  \n",
       "75%             1021.090000  \n",
       "max             1046.380000  "
      ]
     },
     "execution_count": 18,
     "metadata": {},
     "output_type": "execute_result"
    }
   ],
   "source": [
    "#Generate descriptive statistics that summarize the central tendency, dispersion and shape of the dataset’s \n",
    "#distribution excluding NaN values\n",
    "weather_df.describe()"
   ]
  },
  {
   "cell_type": "code",
   "execution_count": 19,
   "id": "6889c9e1",
   "metadata": {},
   "outputs": [
    {
     "data": {
      "text/html": [
       "<div>\n",
       "<style scoped>\n",
       "    .dataframe tbody tr th:only-of-type {\n",
       "        vertical-align: middle;\n",
       "    }\n",
       "\n",
       "    .dataframe tbody tr th {\n",
       "        vertical-align: top;\n",
       "    }\n",
       "\n",
       "    .dataframe thead th {\n",
       "        text-align: right;\n",
       "    }\n",
       "</style>\n",
       "<table border=\"1\" class=\"dataframe\">\n",
       "  <thead>\n",
       "    <tr style=\"text-align: right;\">\n",
       "      <th></th>\n",
       "      <th>count</th>\n",
       "      <th>mean</th>\n",
       "      <th>std</th>\n",
       "      <th>min</th>\n",
       "      <th>25%</th>\n",
       "      <th>50%</th>\n",
       "      <th>75%</th>\n",
       "      <th>max</th>\n",
       "    </tr>\n",
       "  </thead>\n",
       "  <tbody>\n",
       "    <tr>\n",
       "      <th>Temperature (C)</th>\n",
       "      <td>96453.0</td>\n",
       "      <td>11.932678</td>\n",
       "      <td>9.551546</td>\n",
       "      <td>-21.822222</td>\n",
       "      <td>4.688889</td>\n",
       "      <td>12.0000</td>\n",
       "      <td>18.838889</td>\n",
       "      <td>39.905556</td>\n",
       "    </tr>\n",
       "    <tr>\n",
       "      <th>Apparent Temperature (C)</th>\n",
       "      <td>96453.0</td>\n",
       "      <td>10.855029</td>\n",
       "      <td>10.696847</td>\n",
       "      <td>-27.716667</td>\n",
       "      <td>2.311111</td>\n",
       "      <td>12.0000</td>\n",
       "      <td>18.838889</td>\n",
       "      <td>39.344444</td>\n",
       "    </tr>\n",
       "    <tr>\n",
       "      <th>Humidity</th>\n",
       "      <td>96453.0</td>\n",
       "      <td>0.734899</td>\n",
       "      <td>0.195473</td>\n",
       "      <td>0.000000</td>\n",
       "      <td>0.600000</td>\n",
       "      <td>0.7800</td>\n",
       "      <td>0.890000</td>\n",
       "      <td>1.000000</td>\n",
       "    </tr>\n",
       "    <tr>\n",
       "      <th>Wind Speed (km/h)</th>\n",
       "      <td>96453.0</td>\n",
       "      <td>10.810640</td>\n",
       "      <td>6.913571</td>\n",
       "      <td>0.000000</td>\n",
       "      <td>5.828200</td>\n",
       "      <td>9.9659</td>\n",
       "      <td>14.135800</td>\n",
       "      <td>63.852600</td>\n",
       "    </tr>\n",
       "    <tr>\n",
       "      <th>Wind Bearing (degrees)</th>\n",
       "      <td>96453.0</td>\n",
       "      <td>187.509232</td>\n",
       "      <td>107.383428</td>\n",
       "      <td>0.000000</td>\n",
       "      <td>116.000000</td>\n",
       "      <td>180.0000</td>\n",
       "      <td>290.000000</td>\n",
       "      <td>359.000000</td>\n",
       "    </tr>\n",
       "    <tr>\n",
       "      <th>Visibility (km)</th>\n",
       "      <td>96453.0</td>\n",
       "      <td>10.347325</td>\n",
       "      <td>4.192123</td>\n",
       "      <td>0.000000</td>\n",
       "      <td>8.339800</td>\n",
       "      <td>10.0464</td>\n",
       "      <td>14.812000</td>\n",
       "      <td>16.100000</td>\n",
       "    </tr>\n",
       "    <tr>\n",
       "      <th>Loud Cover</th>\n",
       "      <td>96453.0</td>\n",
       "      <td>0.000000</td>\n",
       "      <td>0.000000</td>\n",
       "      <td>0.000000</td>\n",
       "      <td>0.000000</td>\n",
       "      <td>0.0000</td>\n",
       "      <td>0.000000</td>\n",
       "      <td>0.000000</td>\n",
       "    </tr>\n",
       "    <tr>\n",
       "      <th>Pressure (millibars)</th>\n",
       "      <td>96453.0</td>\n",
       "      <td>1003.235956</td>\n",
       "      <td>116.969906</td>\n",
       "      <td>0.000000</td>\n",
       "      <td>1011.900000</td>\n",
       "      <td>1016.4500</td>\n",
       "      <td>1021.090000</td>\n",
       "      <td>1046.380000</td>\n",
       "    </tr>\n",
       "  </tbody>\n",
       "</table>\n",
       "</div>"
      ],
      "text/plain": [
       "                            count         mean         std        min  \\\n",
       "Temperature (C)           96453.0    11.932678    9.551546 -21.822222   \n",
       "Apparent Temperature (C)  96453.0    10.855029   10.696847 -27.716667   \n",
       "Humidity                  96453.0     0.734899    0.195473   0.000000   \n",
       "Wind Speed (km/h)         96453.0    10.810640    6.913571   0.000000   \n",
       "Wind Bearing (degrees)    96453.0   187.509232  107.383428   0.000000   \n",
       "Visibility (km)           96453.0    10.347325    4.192123   0.000000   \n",
       "Loud Cover                96453.0     0.000000    0.000000   0.000000   \n",
       "Pressure (millibars)      96453.0  1003.235956  116.969906   0.000000   \n",
       "\n",
       "                                  25%        50%          75%          max  \n",
       "Temperature (C)              4.688889    12.0000    18.838889    39.905556  \n",
       "Apparent Temperature (C)     2.311111    12.0000    18.838889    39.344444  \n",
       "Humidity                     0.600000     0.7800     0.890000     1.000000  \n",
       "Wind Speed (km/h)            5.828200     9.9659    14.135800    63.852600  \n",
       "Wind Bearing (degrees)     116.000000   180.0000   290.000000   359.000000  \n",
       "Visibility (km)              8.339800    10.0464    14.812000    16.100000  \n",
       "Loud Cover                   0.000000     0.0000     0.000000     0.000000  \n",
       "Pressure (millibars)      1011.900000  1016.4500  1021.090000  1046.380000  "
      ]
     },
     "execution_count": 19,
     "metadata": {},
     "output_type": "execute_result"
    }
   ],
   "source": [
    "weather_df.describe().transpose()"
   ]
  },
  {
   "cell_type": "code",
   "execution_count": 20,
   "id": "169b9916",
   "metadata": {},
   "outputs": [
    {
     "name": "stdout",
     "output_type": "stream",
     "text": [
      "<class 'pandas.core.frame.DataFrame'>\n",
      "RangeIndex: 96453 entries, 0 to 96452\n",
      "Data columns (total 12 columns):\n",
      " #   Column                    Non-Null Count  Dtype  \n",
      "---  ------                    --------------  -----  \n",
      " 0   Formatted Date            96453 non-null  object \n",
      " 1   Summary                   96453 non-null  object \n",
      " 2   Precip Type               95936 non-null  object \n",
      " 3   Temperature (C)           96453 non-null  float64\n",
      " 4   Apparent Temperature (C)  96453 non-null  float64\n",
      " 5   Humidity                  96453 non-null  float64\n",
      " 6   Wind Speed (km/h)         96453 non-null  float64\n",
      " 7   Wind Bearing (degrees)    96453 non-null  int64  \n",
      " 8   Visibility (km)           96453 non-null  float64\n",
      " 9   Loud Cover                96453 non-null  int64  \n",
      " 10  Pressure (millibars)      96453 non-null  float64\n",
      " 11  Daily Summary             96453 non-null  object \n",
      "dtypes: float64(6), int64(2), object(4)\n",
      "memory usage: 8.8+ MB\n"
     ]
    }
   ],
   "source": [
    "#Prints a concise summary of the dataframe\n",
    "weather_df.info()"
   ]
  },
  {
   "cell_type": "code",
   "execution_count": 21,
   "id": "e7c172f1",
   "metadata": {},
   "outputs": [
    {
     "data": {
      "text/plain": [
       "Formatted Date              False\n",
       "Summary                     False\n",
       "Precip Type                  True\n",
       "Temperature (C)             False\n",
       "Apparent Temperature (C)    False\n",
       "Humidity                    False\n",
       "Wind Speed (km/h)           False\n",
       "Wind Bearing (degrees)      False\n",
       "Visibility (km)             False\n",
       "Loud Cover                  False\n",
       "Pressure (millibars)        False\n",
       "Daily Summary               False\n",
       "dtype: bool"
      ]
     },
     "execution_count": 21,
     "metadata": {},
     "output_type": "execute_result"
    }
   ],
   "source": [
    "#check if there is any null value in a particular column\n",
    "weather_df.isnull().any()"
   ]
  },
  {
   "cell_type": "code",
   "execution_count": 22,
   "id": "b34a2883",
   "metadata": {},
   "outputs": [
    {
     "data": {
      "text/plain": [
       "Formatted Date              False\n",
       "Summary                     False\n",
       "Precip Type                 False\n",
       "Temperature (C)             False\n",
       "Apparent Temperature (C)    False\n",
       "Humidity                    False\n",
       "Wind Speed (km/h)           False\n",
       "Wind Bearing (degrees)      False\n",
       "Visibility (km)             False\n",
       "Loud Cover                  False\n",
       "Pressure (millibars)        False\n",
       "Daily Summary               False\n",
       "dtype: bool"
      ]
     },
     "execution_count": 22,
     "metadata": {},
     "output_type": "execute_result"
    }
   ],
   "source": [
    "#check if there are all null values in a particular column\n",
    "weather_df.isnull().all()"
   ]
  },
  {
   "cell_type": "code",
   "execution_count": 23,
   "id": "3a58a795",
   "metadata": {},
   "outputs": [
    {
     "data": {
      "text/plain": [
       "Formatted Date              0.00\n",
       "Summary                     0.00\n",
       "Precip Type                 0.54\n",
       "Temperature (C)             0.00\n",
       "Apparent Temperature (C)    0.00\n",
       "Humidity                    0.00\n",
       "Wind Speed (km/h)           0.00\n",
       "Wind Bearing (degrees)      0.00\n",
       "Visibility (km)             0.00\n",
       "Loud Cover                  0.00\n",
       "Pressure (millibars)        0.00\n",
       "Daily Summary               0.00\n",
       "dtype: float64"
      ]
     },
     "execution_count": 23,
     "metadata": {},
     "output_type": "execute_result"
    }
   ],
   "source": [
    "#calculate the percentage of null values in each column\n",
    "round(100*(weather_df.isnull().sum()/len(weather_df.index)),2)"
   ]
  },
  {
   "cell_type": "code",
   "execution_count": 24,
   "id": "eb79a301",
   "metadata": {},
   "outputs": [
    {
     "data": {
      "text/plain": [
       "rain    85224\n",
       "snow    10712\n",
       "Name: Precip Type, dtype: int64"
      ]
     },
     "execution_count": 24,
     "metadata": {},
     "output_type": "execute_result"
    }
   ],
   "source": [
    "#determine what values are in this column and what the count is of each value\n",
    "weather_df['Precip Type'].value_counts()"
   ]
  },
  {
   "cell_type": "code",
   "execution_count": 25,
   "id": "42208088",
   "metadata": {},
   "outputs": [],
   "source": [
    "#Handling missing values by imputation of the mode i.e. rain\n",
    "weather_df.loc[weather_df['Precip Type'].isnull(),'Precip Type']='rain'"
   ]
  },
  {
   "cell_type": "code",
   "execution_count": 26,
   "id": "914a7f10",
   "metadata": {},
   "outputs": [
    {
     "data": {
      "text/plain": [
       "Formatted Date              0.0\n",
       "Summary                     0.0\n",
       "Precip Type                 0.0\n",
       "Temperature (C)             0.0\n",
       "Apparent Temperature (C)    0.0\n",
       "Humidity                    0.0\n",
       "Wind Speed (km/h)           0.0\n",
       "Wind Bearing (degrees)      0.0\n",
       "Visibility (km)             0.0\n",
       "Loud Cover                  0.0\n",
       "Pressure (millibars)        0.0\n",
       "Daily Summary               0.0\n",
       "dtype: float64"
      ]
     },
     "execution_count": 26,
     "metadata": {},
     "output_type": "execute_result"
    }
   ],
   "source": [
    "#calculate the percentage of null values in each column for the second time\n",
    "round(100*(weather_df.isnull().sum()/len(weather_df.index)),2)"
   ]
  },
  {
   "cell_type": "code",
   "execution_count": 27,
   "id": "0649c603",
   "metadata": {},
   "outputs": [],
   "source": [
    "#Input binary values in Precip type column for rain and snow\n",
    "weather_df.loc[weather_df['Precip Type']=='rain','Precip Type']=1\n",
    "weather_df.loc[weather_df['Precip Type']=='snow','Precip Type']=0"
   ]
  },
  {
   "cell_type": "code",
   "execution_count": 28,
   "id": "67a6e023",
   "metadata": {},
   "outputs": [],
   "source": [
    "weather_df_num=weather_df[list(weather_df.dtypes[weather_df.dtypes!='odject'].index)]"
   ]
  },
  {
   "cell_type": "code",
   "execution_count": 29,
   "id": "6110ba6f",
   "metadata": {},
   "outputs": [],
   "source": [
    "#Drop columns that are irrelevant to the model training\n",
    "to_drop = ['Formatted Date','Summary','Daily Summary']\n",
    "weather_df.drop(to_drop, inplace=True, axis=1)"
   ]
  },
  {
   "cell_type": "code",
   "execution_count": 30,
   "id": "396b9a1c",
   "metadata": {},
   "outputs": [
    {
     "data": {
      "text/html": [
       "<div>\n",
       "<style scoped>\n",
       "    .dataframe tbody tr th:only-of-type {\n",
       "        vertical-align: middle;\n",
       "    }\n",
       "\n",
       "    .dataframe tbody tr th {\n",
       "        vertical-align: top;\n",
       "    }\n",
       "\n",
       "    .dataframe thead th {\n",
       "        text-align: right;\n",
       "    }\n",
       "</style>\n",
       "<table border=\"1\" class=\"dataframe\">\n",
       "  <thead>\n",
       "    <tr style=\"text-align: right;\">\n",
       "      <th></th>\n",
       "      <th>Precip Type</th>\n",
       "      <th>Temperature (C)</th>\n",
       "      <th>Apparent Temperature (C)</th>\n",
       "      <th>Humidity</th>\n",
       "      <th>Wind Speed (km/h)</th>\n",
       "      <th>Wind Bearing (degrees)</th>\n",
       "      <th>Visibility (km)</th>\n",
       "      <th>Loud Cover</th>\n",
       "      <th>Pressure (millibars)</th>\n",
       "    </tr>\n",
       "  </thead>\n",
       "  <tbody>\n",
       "    <tr>\n",
       "      <th>0</th>\n",
       "      <td>1</td>\n",
       "      <td>9.472222</td>\n",
       "      <td>7.388889</td>\n",
       "      <td>0.89</td>\n",
       "      <td>14.1197</td>\n",
       "      <td>251</td>\n",
       "      <td>15.8263</td>\n",
       "      <td>0</td>\n",
       "      <td>1015.13</td>\n",
       "    </tr>\n",
       "    <tr>\n",
       "      <th>1</th>\n",
       "      <td>1</td>\n",
       "      <td>9.355556</td>\n",
       "      <td>7.227778</td>\n",
       "      <td>0.86</td>\n",
       "      <td>14.2646</td>\n",
       "      <td>259</td>\n",
       "      <td>15.8263</td>\n",
       "      <td>0</td>\n",
       "      <td>1015.63</td>\n",
       "    </tr>\n",
       "    <tr>\n",
       "      <th>2</th>\n",
       "      <td>1</td>\n",
       "      <td>9.377778</td>\n",
       "      <td>9.377778</td>\n",
       "      <td>0.89</td>\n",
       "      <td>3.9284</td>\n",
       "      <td>204</td>\n",
       "      <td>14.9569</td>\n",
       "      <td>0</td>\n",
       "      <td>1015.94</td>\n",
       "    </tr>\n",
       "    <tr>\n",
       "      <th>3</th>\n",
       "      <td>1</td>\n",
       "      <td>8.288889</td>\n",
       "      <td>5.944444</td>\n",
       "      <td>0.83</td>\n",
       "      <td>14.1036</td>\n",
       "      <td>269</td>\n",
       "      <td>15.8263</td>\n",
       "      <td>0</td>\n",
       "      <td>1016.41</td>\n",
       "    </tr>\n",
       "    <tr>\n",
       "      <th>4</th>\n",
       "      <td>1</td>\n",
       "      <td>8.755556</td>\n",
       "      <td>6.977778</td>\n",
       "      <td>0.83</td>\n",
       "      <td>11.0446</td>\n",
       "      <td>259</td>\n",
       "      <td>15.8263</td>\n",
       "      <td>0</td>\n",
       "      <td>1016.51</td>\n",
       "    </tr>\n",
       "  </tbody>\n",
       "</table>\n",
       "</div>"
      ],
      "text/plain": [
       "  Precip Type  Temperature (C)  Apparent Temperature (C)  Humidity  \\\n",
       "0           1         9.472222                  7.388889      0.89   \n",
       "1           1         9.355556                  7.227778      0.86   \n",
       "2           1         9.377778                  9.377778      0.89   \n",
       "3           1         8.288889                  5.944444      0.83   \n",
       "4           1         8.755556                  6.977778      0.83   \n",
       "\n",
       "   Wind Speed (km/h)  Wind Bearing (degrees)  Visibility (km)  Loud Cover  \\\n",
       "0            14.1197                     251          15.8263           0   \n",
       "1            14.2646                     259          15.8263           0   \n",
       "2             3.9284                     204          14.9569           0   \n",
       "3            14.1036                     269          15.8263           0   \n",
       "4            11.0446                     259          15.8263           0   \n",
       "\n",
       "   Pressure (millibars)  \n",
       "0               1015.13  \n",
       "1               1015.63  \n",
       "2               1015.94  \n",
       "3               1016.41  \n",
       "4               1016.51  "
      ]
     },
     "execution_count": 30,
     "metadata": {},
     "output_type": "execute_result"
    }
   ],
   "source": [
    "weather_df.head()"
   ]
  },
  {
   "cell_type": "code",
   "execution_count": 31,
   "id": "b13cdd53",
   "metadata": {},
   "outputs": [],
   "source": [
    "weather_df_num=weather_df[list(weather_df.dtypes[weather_df.dtypes!='odject'].index)]"
   ]
  },
  {
   "cell_type": "code",
   "execution_count": 32,
   "id": "550a0f0a",
   "metadata": {},
   "outputs": [],
   "source": [
    "#Separating the training and the test datasets. The feature that we are predicting is temperature, so we separate \n",
    "#it out into a column on its own (weather_y) leaving the rest of the data in weather_x\n",
    "weather_df_y = weather_df_num.pop('Temperature (C)')\n",
    "weather_df_x = weather_df_num"
   ]
  },
  {
   "cell_type": "code",
   "execution_count": 33,
   "id": "547df0c9",
   "metadata": {},
   "outputs": [],
   "source": [
    "#In supervised machine learning, we add data to the model and tell it what the output will be based on the various \n",
    "#conditions of that data. The model then learns from these features and is then able to make a prediction for new \n",
    "#values \n",
    "#So we now split the data into train and test\n",
    "\n",
    "train_x,test_x,train_y,test_y = train_test_split(weather_df_x,weather_df_y,test_size = 0.2,random_state=4)"
   ]
  },
  {
   "cell_type": "code",
   "execution_count": 34,
   "id": "bd00b165",
   "metadata": {},
   "outputs": [
    {
     "data": {
      "text/html": [
       "<div>\n",
       "<style scoped>\n",
       "    .dataframe tbody tr th:only-of-type {\n",
       "        vertical-align: middle;\n",
       "    }\n",
       "\n",
       "    .dataframe tbody tr th {\n",
       "        vertical-align: top;\n",
       "    }\n",
       "\n",
       "    .dataframe thead th {\n",
       "        text-align: right;\n",
       "    }\n",
       "</style>\n",
       "<table border=\"1\" class=\"dataframe\">\n",
       "  <thead>\n",
       "    <tr style=\"text-align: right;\">\n",
       "      <th></th>\n",
       "      <th>Precip Type</th>\n",
       "      <th>Apparent Temperature (C)</th>\n",
       "      <th>Humidity</th>\n",
       "      <th>Wind Speed (km/h)</th>\n",
       "      <th>Wind Bearing (degrees)</th>\n",
       "      <th>Visibility (km)</th>\n",
       "      <th>Loud Cover</th>\n",
       "      <th>Pressure (millibars)</th>\n",
       "    </tr>\n",
       "  </thead>\n",
       "  <tbody>\n",
       "    <tr>\n",
       "      <th>70626</th>\n",
       "      <td>1</td>\n",
       "      <td>21.061111</td>\n",
       "      <td>0.31</td>\n",
       "      <td>12.5580</td>\n",
       "      <td>110</td>\n",
       "      <td>16.1000</td>\n",
       "      <td>0</td>\n",
       "      <td>1005.87</td>\n",
       "    </tr>\n",
       "    <tr>\n",
       "      <th>52457</th>\n",
       "      <td>1</td>\n",
       "      <td>25.016667</td>\n",
       "      <td>0.36</td>\n",
       "      <td>18.4989</td>\n",
       "      <td>352</td>\n",
       "      <td>10.3523</td>\n",
       "      <td>0</td>\n",
       "      <td>1025.36</td>\n",
       "    </tr>\n",
       "    <tr>\n",
       "      <th>90690</th>\n",
       "      <td>1</td>\n",
       "      <td>0.738889</td>\n",
       "      <td>0.89</td>\n",
       "      <td>17.1304</td>\n",
       "      <td>270</td>\n",
       "      <td>15.8263</td>\n",
       "      <td>0</td>\n",
       "      <td>1014.75</td>\n",
       "    </tr>\n",
       "    <tr>\n",
       "      <th>69528</th>\n",
       "      <td>1</td>\n",
       "      <td>13.772222</td>\n",
       "      <td>0.78</td>\n",
       "      <td>14.4900</td>\n",
       "      <td>300</td>\n",
       "      <td>15.8263</td>\n",
       "      <td>0</td>\n",
       "      <td>1014.56</td>\n",
       "    </tr>\n",
       "    <tr>\n",
       "      <th>92419</th>\n",
       "      <td>1</td>\n",
       "      <td>23.288889</td>\n",
       "      <td>0.82</td>\n",
       "      <td>6.3917</td>\n",
       "      <td>357</td>\n",
       "      <td>16.1000</td>\n",
       "      <td>0</td>\n",
       "      <td>1022.05</td>\n",
       "    </tr>\n",
       "  </tbody>\n",
       "</table>\n",
       "</div>"
      ],
      "text/plain": [
       "      Precip Type  Apparent Temperature (C)  Humidity  Wind Speed (km/h)  \\\n",
       "70626           1                 21.061111      0.31            12.5580   \n",
       "52457           1                 25.016667      0.36            18.4989   \n",
       "90690           1                  0.738889      0.89            17.1304   \n",
       "69528           1                 13.772222      0.78            14.4900   \n",
       "92419           1                 23.288889      0.82             6.3917   \n",
       "\n",
       "       Wind Bearing (degrees)  Visibility (km)  Loud Cover  \\\n",
       "70626                     110          16.1000           0   \n",
       "52457                     352          10.3523           0   \n",
       "90690                     270          15.8263           0   \n",
       "69528                     300          15.8263           0   \n",
       "92419                     357          16.1000           0   \n",
       "\n",
       "       Pressure (millibars)  \n",
       "70626               1005.87  \n",
       "52457               1025.36  \n",
       "90690               1014.75  \n",
       "69528               1014.56  \n",
       "92419               1022.05  "
      ]
     },
     "execution_count": 34,
     "metadata": {},
     "output_type": "execute_result"
    }
   ],
   "source": [
    "#Look at the training dataset. It has all columns except the temperature column\n",
    "train_x.head()"
   ]
  },
  {
   "cell_type": "code",
   "execution_count": 35,
   "id": "233dc56c",
   "metadata": {},
   "outputs": [
    {
     "data": {
      "text/plain": [
       "70626    21.061111\n",
       "52457    25.016667\n",
       "90690     4.422222\n",
       "69528    13.772222\n",
       "92419    23.288889\n",
       "Name: Temperature (C), dtype: float64"
      ]
     },
     "execution_count": 35,
     "metadata": {},
     "output_type": "execute_result"
    }
   ],
   "source": [
    "train_y.head()"
   ]
  },
  {
   "cell_type": "code",
   "execution_count": 36,
   "id": "4912d13a",
   "metadata": {},
   "outputs": [
    {
     "data": {
      "text/plain": [
       "37443    -2.288889\n",
       "86534     8.861111\n",
       "2082      9.805556\n",
       "53130    27.222222\n",
       "45196    17.705556\n",
       "Name: Temperature (C), dtype: float64"
      ]
     },
     "execution_count": 36,
     "metadata": {},
     "output_type": "execute_result"
    }
   ],
   "source": [
    "test_y.head()"
   ]
  },
  {
   "cell_type": "code",
   "execution_count": 37,
   "id": "25f4ac5a",
   "metadata": {},
   "outputs": [
    {
     "data": {
      "text/plain": [
       "(19291, 8)"
      ]
     },
     "execution_count": 37,
     "metadata": {},
     "output_type": "execute_result"
    }
   ],
   "source": [
    "test_x.shape"
   ]
  },
  {
   "cell_type": "code",
   "execution_count": 38,
   "id": "d2b45ec1",
   "metadata": {},
   "outputs": [
    {
     "data": {
      "text/plain": [
       "(77162, 8)"
      ]
     },
     "execution_count": 38,
     "metadata": {},
     "output_type": "execute_result"
    }
   ],
   "source": [
    "train_x.shape"
   ]
  },
  {
   "cell_type": "code",
   "execution_count": 39,
   "id": "dabd0bd9",
   "metadata": {},
   "outputs": [],
   "source": [
    "#Using polynomial regression to train the model. Polynomial Regression is a one of the types of linear regression in \n",
    "#which the relationship between the independent variable x and dependent variable y is modeled as an nth degree \n",
    "#polynomial. In this case that degree is 4\n",
    "\n",
    "from sklearn.preprocessing import PolynomialFeatures\n",
    "poly = PolynomialFeatures(degree = 4)"
   ]
  },
  {
   "cell_type": "code",
   "execution_count": 40,
   "id": "0724b422",
   "metadata": {},
   "outputs": [
    {
     "data": {
      "text/plain": [
       "PolynomialFeatures(degree=4)"
      ]
     },
     "execution_count": 40,
     "metadata": {},
     "output_type": "execute_result"
    }
   ],
   "source": [
    "#Now we train the model\n",
    "X_poly = poly.fit_transform(train_x)\n",
    "poly.fit(X_poly, train_y)\n"
   ]
  },
  {
   "cell_type": "code",
   "execution_count": 41,
   "id": "53f7cbf9",
   "metadata": {},
   "outputs": [
    {
     "data": {
      "text/plain": [
       "DecisionTreeRegressor(random_state=0)"
      ]
     },
     "execution_count": 41,
     "metadata": {},
     "output_type": "execute_result"
    }
   ],
   "source": [
    "#Now we use Decision Tree Regressor to train the model\n",
    "#Decision tree builds regression or classification models in the form of a tree structure. It breaks down a dataset\n",
    "#into smaller and smaller subsets while at the same time an associated decision tree is incrementally developed. \n",
    "#The final result is a tree with decision nodes and leaf nodes. \n",
    "\n",
    "from sklearn.tree import DecisionTreeRegressor\n",
    "regressor = DecisionTreeRegressor(random_state=0)\n",
    "regressor.fit(train_x,train_y)"
   ]
  },
  {
   "cell_type": "code",
   "execution_count": 42,
   "id": "38ffdd89",
   "metadata": {},
   "outputs": [
    {
     "data": {
      "text/plain": [
       "0.00803046229678356"
      ]
     },
     "execution_count": 42,
     "metadata": {},
     "output_type": "execute_result"
    }
   ],
   "source": [
    "#We now look at how well out model has been trained by feeding it test data and getting it to make a prediction and\n",
    "#then comparing its output to test data output\n",
    "\n",
    "prediction3 = regressor.predict(test_x)\n",
    "np.mean((prediction3-test_y)**2)\n"
   ]
  },
  {
   "cell_type": "code",
   "execution_count": 43,
   "id": "3c5b526c",
   "metadata": {},
   "outputs": [
    {
     "data": {
      "text/html": [
       "<div>\n",
       "<style scoped>\n",
       "    .dataframe tbody tr th:only-of-type {\n",
       "        vertical-align: middle;\n",
       "    }\n",
       "\n",
       "    .dataframe tbody tr th {\n",
       "        vertical-align: top;\n",
       "    }\n",
       "\n",
       "    .dataframe thead th {\n",
       "        text-align: right;\n",
       "    }\n",
       "</style>\n",
       "<table border=\"1\" class=\"dataframe\">\n",
       "  <thead>\n",
       "    <tr style=\"text-align: right;\">\n",
       "      <th></th>\n",
       "      <th>actual</th>\n",
       "      <th>prediction</th>\n",
       "      <th>diff</th>\n",
       "    </tr>\n",
       "  </thead>\n",
       "  <tbody>\n",
       "    <tr>\n",
       "      <th>37443</th>\n",
       "      <td>-2.288889</td>\n",
       "      <td>-2.266667</td>\n",
       "      <td>-2.222222e-02</td>\n",
       "    </tr>\n",
       "    <tr>\n",
       "      <th>86534</th>\n",
       "      <td>8.861111</td>\n",
       "      <td>8.855556</td>\n",
       "      <td>5.555555e-03</td>\n",
       "    </tr>\n",
       "    <tr>\n",
       "      <th>2082</th>\n",
       "      <td>9.805556</td>\n",
       "      <td>9.811111</td>\n",
       "      <td>-5.555555e-03</td>\n",
       "    </tr>\n",
       "    <tr>\n",
       "      <th>53130</th>\n",
       "      <td>27.222222</td>\n",
       "      <td>27.222222</td>\n",
       "      <td>0.000000e+00</td>\n",
       "    </tr>\n",
       "    <tr>\n",
       "      <th>45196</th>\n",
       "      <td>17.705556</td>\n",
       "      <td>17.705556</td>\n",
       "      <td>3.552714e-15</td>\n",
       "    </tr>\n",
       "    <tr>\n",
       "      <th>...</th>\n",
       "      <td>...</td>\n",
       "      <td>...</td>\n",
       "      <td>...</td>\n",
       "    </tr>\n",
       "    <tr>\n",
       "      <th>55387</th>\n",
       "      <td>-10.066667</td>\n",
       "      <td>-10.000000</td>\n",
       "      <td>-6.666667e-02</td>\n",
       "    </tr>\n",
       "    <tr>\n",
       "      <th>25976</th>\n",
       "      <td>9.972222</td>\n",
       "      <td>9.972222</td>\n",
       "      <td>0.000000e+00</td>\n",
       "    </tr>\n",
       "    <tr>\n",
       "      <th>32423</th>\n",
       "      <td>12.777778</td>\n",
       "      <td>12.777778</td>\n",
       "      <td>-6.217249e-14</td>\n",
       "    </tr>\n",
       "    <tr>\n",
       "      <th>26570</th>\n",
       "      <td>15.277778</td>\n",
       "      <td>15.277778</td>\n",
       "      <td>0.000000e+00</td>\n",
       "    </tr>\n",
       "    <tr>\n",
       "      <th>45834</th>\n",
       "      <td>2.200000</td>\n",
       "      <td>2.200000</td>\n",
       "      <td>4.440892e-16</td>\n",
       "    </tr>\n",
       "  </tbody>\n",
       "</table>\n",
       "<p>19291 rows × 3 columns</p>\n",
       "</div>"
      ],
      "text/plain": [
       "          actual  prediction          diff\n",
       "37443  -2.288889   -2.266667 -2.222222e-02\n",
       "86534   8.861111    8.855556  5.555555e-03\n",
       "2082    9.805556    9.811111 -5.555555e-03\n",
       "53130  27.222222   27.222222  0.000000e+00\n",
       "45196  17.705556   17.705556  3.552714e-15\n",
       "...          ...         ...           ...\n",
       "55387 -10.066667  -10.000000 -6.666667e-02\n",
       "25976   9.972222    9.972222  0.000000e+00\n",
       "32423  12.777778   12.777778 -6.217249e-14\n",
       "26570  15.277778   15.277778  0.000000e+00\n",
       "45834   2.200000    2.200000  4.440892e-16\n",
       "\n",
       "[19291 rows x 3 columns]"
      ]
     },
     "execution_count": 43,
     "metadata": {},
     "output_type": "execute_result"
    }
   ],
   "source": [
    "#Now look at the difference between predicted and actual\n",
    "pd.DataFrame({'actual':test_y,\n",
    "             'prediction':prediction3,\n",
    "             'diff':(test_y-prediction3)})"
   ]
  },
  {
   "cell_type": "code",
   "execution_count": 44,
   "id": "f7b3bf8c",
   "metadata": {},
   "outputs": [],
   "source": [
    "#Import metrics library\n",
    "from sklearn import metrics"
   ]
  },
  {
   "cell_type": "code",
   "execution_count": 45,
   "id": "e0b98a8b",
   "metadata": {},
   "outputs": [
    {
     "name": "stdout",
     "output_type": "stream",
     "text": [
      "0.021708741547046377\n"
     ]
    }
   ],
   "source": [
    "#Print results of MAE\n",
    "print(metrics.mean_absolute_error(test_y, prediction3))"
   ]
  },
  {
   "cell_type": "code",
   "execution_count": 46,
   "id": "274ca25e",
   "metadata": {},
   "outputs": [
    {
     "name": "stdout",
     "output_type": "stream",
     "text": [
      "0.00803046229678357\n"
     ]
    }
   ],
   "source": [
    "#Print results of MSE\n",
    "print(metrics.mean_squared_error(test_y, prediction3))"
   ]
  },
  {
   "cell_type": "code",
   "execution_count": 47,
   "id": "73fbe986",
   "metadata": {},
   "outputs": [
    {
     "name": "stdout",
     "output_type": "stream",
     "text": [
      "0.08961284671732937\n"
     ]
    }
   ],
   "source": [
    "#Print results of RMSE\n",
    "print(np.sqrt(metrics.mean_squared_error(test_y, prediction3)))"
   ]
  },
  {
   "cell_type": "code",
   "execution_count": 48,
   "id": "c5659d4e",
   "metadata": {},
   "outputs": [
    {
     "data": {
      "text/plain": [
       "RandomForestRegressor(max_depth=10, random_state=0)"
      ]
     },
     "execution_count": 48,
     "metadata": {},
     "output_type": "execute_result"
    }
   ],
   "source": [
    "## Using Random Forest to train our model\n",
    "from sklearn.ensemble import RandomForestRegressor\n",
    "regr = RandomForestRegressor(max_depth=10,random_state=0,n_estimators=100)\n",
    "regr.fit(train_x,train_y)\n"
   ]
  },
  {
   "cell_type": "code",
   "execution_count": 49,
   "id": "fe5c48c3",
   "metadata": {},
   "outputs": [
    {
     "data": {
      "text/plain": [
       "0.008141637115617098"
      ]
     },
     "execution_count": 49,
     "metadata": {},
     "output_type": "execute_result"
    }
   ],
   "source": [
    "#We now look at how well out model has been trained by feeding it test data and getting it to make a prediction and\n",
    "#then comparing its output to test data output\n",
    "\n",
    "prediction4 = regr.predict(test_x)\n",
    "np.mean((prediction4-test_y)**2)"
   ]
  },
  {
   "cell_type": "code",
   "execution_count": 50,
   "id": "2fa83a6b",
   "metadata": {},
   "outputs": [
    {
     "data": {
      "text/html": [
       "<div>\n",
       "<style scoped>\n",
       "    .dataframe tbody tr th:only-of-type {\n",
       "        vertical-align: middle;\n",
       "    }\n",
       "\n",
       "    .dataframe tbody tr th {\n",
       "        vertical-align: top;\n",
       "    }\n",
       "\n",
       "    .dataframe thead th {\n",
       "        text-align: right;\n",
       "    }\n",
       "</style>\n",
       "<table border=\"1\" class=\"dataframe\">\n",
       "  <thead>\n",
       "    <tr style=\"text-align: right;\">\n",
       "      <th></th>\n",
       "      <th>actual</th>\n",
       "      <th>prediction</th>\n",
       "      <th>diff</th>\n",
       "    </tr>\n",
       "  </thead>\n",
       "  <tbody>\n",
       "    <tr>\n",
       "      <th>37443</th>\n",
       "      <td>-2.288889</td>\n",
       "      <td>-2.482177</td>\n",
       "      <td>0.193288</td>\n",
       "    </tr>\n",
       "    <tr>\n",
       "      <th>86534</th>\n",
       "      <td>8.861111</td>\n",
       "      <td>8.892260</td>\n",
       "      <td>-0.031149</td>\n",
       "    </tr>\n",
       "    <tr>\n",
       "      <th>2082</th>\n",
       "      <td>9.805556</td>\n",
       "      <td>9.847246</td>\n",
       "      <td>-0.041690</td>\n",
       "    </tr>\n",
       "    <tr>\n",
       "      <th>53130</th>\n",
       "      <td>27.222222</td>\n",
       "      <td>27.203396</td>\n",
       "      <td>0.018826</td>\n",
       "    </tr>\n",
       "    <tr>\n",
       "      <th>45196</th>\n",
       "      <td>17.705556</td>\n",
       "      <td>17.713716</td>\n",
       "      <td>-0.008160</td>\n",
       "    </tr>\n",
       "    <tr>\n",
       "      <th>...</th>\n",
       "      <td>...</td>\n",
       "      <td>...</td>\n",
       "      <td>...</td>\n",
       "    </tr>\n",
       "    <tr>\n",
       "      <th>55387</th>\n",
       "      <td>-10.066667</td>\n",
       "      <td>-10.071566</td>\n",
       "      <td>0.004899</td>\n",
       "    </tr>\n",
       "    <tr>\n",
       "      <th>25976</th>\n",
       "      <td>9.972222</td>\n",
       "      <td>9.913953</td>\n",
       "      <td>0.058269</td>\n",
       "    </tr>\n",
       "    <tr>\n",
       "      <th>32423</th>\n",
       "      <td>12.777778</td>\n",
       "      <td>12.781718</td>\n",
       "      <td>-0.003940</td>\n",
       "    </tr>\n",
       "    <tr>\n",
       "      <th>26570</th>\n",
       "      <td>15.277778</td>\n",
       "      <td>15.275648</td>\n",
       "      <td>0.002130</td>\n",
       "    </tr>\n",
       "    <tr>\n",
       "      <th>45834</th>\n",
       "      <td>2.200000</td>\n",
       "      <td>2.187450</td>\n",
       "      <td>0.012550</td>\n",
       "    </tr>\n",
       "  </tbody>\n",
       "</table>\n",
       "<p>19291 rows × 3 columns</p>\n",
       "</div>"
      ],
      "text/plain": [
       "          actual  prediction      diff\n",
       "37443  -2.288889   -2.482177  0.193288\n",
       "86534   8.861111    8.892260 -0.031149\n",
       "2082    9.805556    9.847246 -0.041690\n",
       "53130  27.222222   27.203396  0.018826\n",
       "45196  17.705556   17.713716 -0.008160\n",
       "...          ...         ...       ...\n",
       "55387 -10.066667  -10.071566  0.004899\n",
       "25976   9.972222    9.913953  0.058269\n",
       "32423  12.777778   12.781718 -0.003940\n",
       "26570  15.277778   15.275648  0.002130\n",
       "45834   2.200000    2.187450  0.012550\n",
       "\n",
       "[19291 rows x 3 columns]"
      ]
     },
     "execution_count": 50,
     "metadata": {},
     "output_type": "execute_result"
    }
   ],
   "source": [
    "#Now look at the difference between predicted and actual\n",
    "pd.DataFrame({'actual':test_y,\n",
    "             'prediction':prediction4,\n",
    "             'diff':(test_y-prediction4)})"
   ]
  },
  {
   "cell_type": "code",
   "execution_count": 51,
   "id": "10a161ac",
   "metadata": {},
   "outputs": [
    {
     "name": "stdout",
     "output_type": "stream",
     "text": [
      "0.0432385808682435\n"
     ]
    }
   ],
   "source": [
    "#Print results of MAE for Random Forest\n",
    "print(metrics.mean_absolute_error(test_y, prediction4))"
   ]
  },
  {
   "cell_type": "code",
   "execution_count": 52,
   "id": "feaa1230",
   "metadata": {},
   "outputs": [
    {
     "name": "stdout",
     "output_type": "stream",
     "text": [
      "0.008141637115617032\n"
     ]
    }
   ],
   "source": [
    "#Print results of MSE for Random Forest\n",
    "print(metrics.mean_squared_error(test_y, prediction4))"
   ]
  },
  {
   "cell_type": "code",
   "execution_count": 53,
   "id": "b687db0a",
   "metadata": {},
   "outputs": [
    {
     "name": "stdout",
     "output_type": "stream",
     "text": [
      "0.09023102080558011\n"
     ]
    }
   ],
   "source": [
    "#Print results of RMSE for Random Forest\n",
    "print(np.sqrt(metrics.mean_squared_error(test_y, prediction4)))"
   ]
  },
  {
   "cell_type": "code",
   "execution_count": null,
   "id": "089aa49e",
   "metadata": {},
   "outputs": [],
   "source": []
  }
 ],
 "metadata": {
  "kernelspec": {
   "display_name": "conda_python3",
   "language": "python",
   "name": "conda_python3"
  },
  "language_info": {
   "codemirror_mode": {
    "name": "ipython",
    "version": 3
   },
   "file_extension": ".py",
   "mimetype": "text/x-python",
   "name": "python",
   "nbconvert_exporter": "python",
   "pygments_lexer": "ipython3",
   "version": "3.6.13"
  }
 },
 "nbformat": 4,
 "nbformat_minor": 5
}
